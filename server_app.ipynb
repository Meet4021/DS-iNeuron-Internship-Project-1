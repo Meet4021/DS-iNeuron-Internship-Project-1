{
 "cells": [
  {
   "cell_type": "code",
   "execution_count": 2,
   "id": "1c286592",
   "metadata": {},
   "outputs": [
    {
     "name": "stdout",
     "output_type": "stream",
     "text": [
      "Connecting to wss://anvil.works/uplink\n",
      "Anvil websocket open\n",
      "Connected to \"Default environment\" as SERVER\n"
     ]
    }
   ],
   "source": [
    "import anvil.server\n",
    "import time\n",
    "from urllib.request import urlopen\n",
    "import pandas as pd\n",
    "import pickle\n",
    "import numpy as np\n",
    "import warnings\n",
    "\n",
    "warnings.filterwarnings('ignore')\n",
    "\n",
    "anvil.server.connect('TBYQ3R54ZHUBIZBRJYPTFJYN-Z3Q5PLFWEGEDIH4Y')"
   ]
  },
  {
   "cell_type": "code",
   "execution_count": null,
   "id": "7105e69b",
   "metadata": {},
   "outputs": [],
   "source": [
    "@anvil.server.callable\n",
    "\n",
    "def pred(weekday, month, holiday, hour, weather_main, clouds_all, temp):\n",
    "    \n",
    "    path = urlopen(r'https://github.com/MuhammadOo/iNeuron-Internship-Project/raw/main/mypickle.pkl')\n",
    "    \n",
    "    cols = ['holiday','temp','clouds_all','weather_main','weekday','hour','month']\n",
    "    \n",
    "    pipeline=pickle.load(path)\n",
    "    \n",
    "    x = [0 for i in range(1,8)]\n",
    "    x[0] = holiday\n",
    "    x[1] = temp\n",
    "    x[2] = clouds_all\n",
    "    x[3] = weather_main\n",
    "    x[4] = weekday\n",
    "    x[5] = hour\n",
    "    x[6] = month\n",
    "    \n",
    "    \n",
    "    test_row = pd.DataFrame(x).transpose()\n",
    "    test_row.columns = cols\n",
    "    result = pipeline.predict(test_row)\n",
    "    time.sleep(2)\n",
    "    \n",
    "    return round(result[0],0)\n",
    "\n",
    "anvil.server.wait_forever()"
   ]
  }
 ],
 "metadata": {
  "kernelspec": {
   "display_name": "Python 3",
   "language": "python",
   "name": "python3"
  },
  "language_info": {
   "codemirror_mode": {
    "name": "ipython",
    "version": 3
   },
   "file_extension": ".py",
   "mimetype": "text/x-python",
   "name": "python",
   "nbconvert_exporter": "python",
   "pygments_lexer": "ipython3",
   "version": "3.8.8"
  }
 },
 "nbformat": 4,
 "nbformat_minor": 5
}
